{
 "cells": [
  {
   "cell_type": "markdown",
   "metadata": {},
   "source": [
    "# Práctica 2 – Genómica Computacional\n",
    "## Herramientas bioinformáticas (Python)\n",
    "\n",
    "### Nombre: Mario Alberto Avella Villalobos\n"
   ]
  },
  {
   "cell_type": "markdown",
   "metadata": {},
   "source": [
    "Problema 1: Escribir un programa que me permita aplicar el 10% de descuento si la compra total es mayor a $100."
   ]
  },
  {
   "cell_type": "code",
   "execution_count": 9,
   "metadata": {},
   "outputs": [
    {
     "name": "stdout",
     "output_type": "stream",
     "text": [
      "Total comprado: 500\n",
      "Precio total a pagar despues de aplicar el 10% de descuento:  450.0\n"
     ]
    }
   ],
   "source": [
    "compra = float(input(\"Total comprado: \"))\n",
    "if(compra > 100):\n",
    "  compra = compra - (compra * .10)\n",
    "  print(\"Precio total a pagar despues de aplicar el 10% de descuento: \", compra)\n",
    "else:\n",
    "  print(\"Precio total (No aplica el 10% de descuento): \",compra)"
   ]
  },
  {
   "cell_type": "markdown",
   "metadata": {},
   "source": [
    "Problema 2: Sabiendo que la fórmula para obtener el área de un triángulo es a=(bxh)/2, donde b es la longitud de la base del triángulo, y h es su altura. Escribir un programa que permita realizar el cálculo del área de un triángulo. Si el área contiene valores decimales, imprimir el resultado con dos dígitos."
   ]
  },
  {
   "cell_type": "code",
   "execution_count": 10,
   "metadata": {},
   "outputs": [
    {
     "name": "stdout",
     "output_type": "stream",
     "text": [
      "Base del triángulo (valor): 20\n",
      "Altura del triángulo (valor): 25.6\n",
      "Área del triángulo es de: 256.00\n"
     ]
    }
   ],
   "source": [
    "b = float(input(\"Base del triángulo (valor): \"))\n",
    "h = float(input(\"Altura del triángulo (valor): \"))\n",
    "a = (b*h)/2\n",
    "print (f\"Área del triángulo es de: {a:.2f}\")"
   ]
  },
  {
   "cell_type": "markdown",
   "metadata": {},
   "source": [
    "Problema 3: La fórmula para el Índice de Masa Corportal es _IMC = kg/m2_ donde kg es el peso de la persona en kilogramos y m2 es la altura en metros al cuadrado. Realizar un programa que calcula el IMC cuando se le provee el peso y la altura."
   ]
  },
  {
   "cell_type": "code",
   "execution_count": 7,
   "metadata": {},
   "outputs": [
    {
     "name": "stdout",
     "output_type": "stream",
     "text": [
      "Peso en kg: 67\n",
      "Altura en m: 1.65\n",
      "24.609733700642796\n"
     ]
    }
   ],
   "source": [
    "peso = float(input(\"Peso en kg: \"))\n",
    "altura = float(input(\"Altura en m: \"))\n",
    "IMC = peso/(altura**2)\n",
    "print(IMC)"
   ]
  }
 ],
 "metadata": {
  "kernelspec": {
   "display_name": "Python 3",
   "language": "python",
   "name": "python3"
  },
  "language_info": {
   "codemirror_mode": {
    "name": "ipython",
    "version": 3
   },
   "file_extension": ".py",
   "mimetype": "text/x-python",
   "name": "python",
   "nbconvert_exporter": "python",
   "pygments_lexer": "ipython3",
   "version": "3.8.3"
  }
 },
 "nbformat": 4,
 "nbformat_minor": 4
}
